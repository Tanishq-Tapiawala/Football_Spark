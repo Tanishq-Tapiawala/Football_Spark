{
 "cells": [
  {
   "cell_type": "code",
   "execution_count": 1,
   "id": "526d84dc",
   "metadata": {},
   "outputs": [],
   "source": [
    "# Importing the libraries\n",
    "\n",
    "import numpy as np \n",
    "import pandas as pd \n",
    "import matplotlib.pyplot as plt \n",
    "import seaborn as sns\n",
    "\n",
    "import warnings\n",
    "warnings.filterwarnings('ignore')"
   ]
  },
  {
   "cell_type": "code",
   "execution_count": 2,
   "id": "94fec698",
   "metadata": {},
   "outputs": [
    {
     "name": "stderr",
     "output_type": "stream",
     "text": [
      "22/04/10 21:43:19 WARN Utils: Your hostname, Tanishqs-MacBook-Air.local resolves to a loopback address: 127.0.0.1; using 192.168.29.164 instead (on interface en0)\n",
      "22/04/10 21:43:19 WARN Utils: Set SPARK_LOCAL_IP if you need to bind to another address\n",
      "Using Spark's default log4j profile: org/apache/spark/log4j-defaults.properties\n",
      "Setting default log level to \"WARN\".\n",
      "To adjust logging level use sc.setLogLevel(newLevel). For SparkR, use setLogLevel(newLevel).\n",
      "22/04/10 21:43:19 WARN NativeCodeLoader: Unable to load native-hadoop library for your platform... using builtin-java classes where applicable\n"
     ]
    }
   ],
   "source": [
    "# Create spark session\n",
    "\n",
    "from pyspark.sql import SparkSession\n",
    "\n",
    "spark = SparkSession \\\n",
    "    .builder \\\n",
    "    .appName(\"Python Spark SQL basic example\") \\\n",
    "    .config(\"spark.some.config.option\", \"some-value\") \\\n",
    "    .getOrCreate()"
   ]
  },
  {
   "cell_type": "code",
   "execution_count": 3,
   "id": "f845746f",
   "metadata": {},
   "outputs": [],
   "source": [
    "# Import data types\n",
    "\n",
    "from pyspark.sql.types import *\n",
    "\n",
    "sc = spark.sparkContext"
   ]
  },
  {
   "cell_type": "markdown",
   "id": "0e88d8b0",
   "metadata": {},
   "source": [
    "# DATA EXPLORATION"
   ]
  },
  {
   "cell_type": "markdown",
   "id": "85ea7aa2",
   "metadata": {},
   "source": [
    "# Event Data"
   ]
  },
  {
   "cell_type": "code",
   "execution_count": 4,
   "id": "a7c77cfa",
   "metadata": {},
   "outputs": [
    {
     "name": "stderr",
     "output_type": "stream",
     "text": [
      "                                                                                \r"
     ]
    }
   ],
   "source": [
    "# Read the events data\n",
    "\n",
    "eventsDf = spark.read.options(header=\"true\",\\\n",
    "                              inferSchema=\"true\",\\\n",
    "                              nullValue=\"NA\",\\\n",
    "                              mode=\"failfast\")\\\n",
    "                             .csv(\"events.csv\")"
   ]
  },
  {
   "cell_type": "code",
   "execution_count": 5,
   "id": "8108ff7e",
   "metadata": {},
   "outputs": [
    {
     "name": "stderr",
     "output_type": "stream",
     "text": [
      "\r",
      "[Stage 2:>                                                          (0 + 8) / 8]\r"
     ]
    },
    {
     "name": "stdout",
     "output_type": "stream",
     "text": [
      "Data is having 941009 rows and 22 columns\n"
     ]
    },
    {
     "name": "stderr",
     "output_type": "stream",
     "text": [
      "\r",
      "                                                                                \r"
     ]
    }
   ],
   "source": [
    "# Data specs\n",
    "\n",
    "print('Data is having', eventsDf.count(), \"rows and\", len(eventsDf.columns), 'columns' )"
   ]
  },
  {
   "cell_type": "code",
   "execution_count": 6,
   "id": "3a23a167",
   "metadata": {},
   "outputs": [
    {
     "name": "stdout",
     "output_type": "stream",
     "text": [
      "root\n",
      " |-- id_odsp: string (nullable = true)\n",
      " |-- id_event: string (nullable = true)\n",
      " |-- sort_order: integer (nullable = true)\n",
      " |-- time: integer (nullable = true)\n",
      " |-- text: string (nullable = true)\n",
      " |-- event_type: integer (nullable = true)\n",
      " |-- event_type2: integer (nullable = true)\n",
      " |-- side: integer (nullable = true)\n",
      " |-- event_team: string (nullable = true)\n",
      " |-- opponent: string (nullable = true)\n",
      " |-- player: string (nullable = true)\n",
      " |-- player2: string (nullable = true)\n",
      " |-- player_in: string (nullable = true)\n",
      " |-- player_out: string (nullable = true)\n",
      " |-- shot_place: integer (nullable = true)\n",
      " |-- shot_outcome: integer (nullable = true)\n",
      " |-- is_goal: integer (nullable = true)\n",
      " |-- location: integer (nullable = true)\n",
      " |-- bodypart: integer (nullable = true)\n",
      " |-- assist_method: integer (nullable = true)\n",
      " |-- situation: integer (nullable = true)\n",
      " |-- fast_break: integer (nullable = true)\n",
      "\n"
     ]
    }
   ],
   "source": [
    "# Data Schema\n",
    "\n",
    "eventsDf.printSchema()"
   ]
  },
  {
   "cell_type": "code",
   "execution_count": 7,
   "id": "b200fa39",
   "metadata": {},
   "outputs": [
    {
     "data": {
      "text/plain": [
       "8"
      ]
     },
     "execution_count": 7,
     "metadata": {},
     "output_type": "execute_result"
    }
   ],
   "source": [
    "# Get Partitions\n",
    "\n",
    "eventsDf.rdd.getNumPartitions()"
   ]
  },
  {
   "cell_type": "code",
   "execution_count": 8,
   "id": "014e27cc",
   "metadata": {},
   "outputs": [
    {
     "name": "stdout",
     "output_type": "stream",
     "text": [
      "+---------+---------+----------+----+--------------------+----------+-----------+----+-----------------+-----------------+----------------+----------------+---------+----------+----------+------------+-------+--------+--------+-------------+---------+----------+\n",
      "|  id_odsp| id_event|sort_order|time|                text|event_type|event_type2|side|       event_team|         opponent|          player|         player2|player_in|player_out|shot_place|shot_outcome|is_goal|location|bodypart|assist_method|situation|fast_break|\n",
      "+---------+---------+----------+----+--------------------+----------+-----------+----+-----------------+-----------------+----------------+----------------+---------+----------+----------+------------+-------+--------+--------+-------------+---------+----------+\n",
      "|UFot0hit/|UFot0hit1|         1|   2|Attempt missed. M...|         1|         12|   2|       Hamburg SV|Borussia Dortmund|   mladen petric|     gokhan tore|     null|      null|         6|           2|      0|       9|       2|            1|        1|         0|\n",
      "|UFot0hit/|UFot0hit2|         2|   4|Corner,  Borussia...|         2|       null|   1|Borussia Dortmund|       Hamburg SV|dennis diekmeier|dennis diekmeier|     null|      null|      null|        null|      0|    null|    null|            0|     null|         0|\n",
      "+---------+---------+----------+----+--------------------+----------+-----------+----+-----------------+-----------------+----------------+----------------+---------+----------+----------+------------+-------+--------+--------+-------------+---------+----------+\n",
      "only showing top 2 rows\n",
      "\n"
     ]
    }
   ],
   "source": [
    "# Show sample data\n",
    "\n",
    "eventsDf.show(2)"
   ]
  },
  {
   "cell_type": "code",
   "execution_count": 9,
   "id": "30cd04c8",
   "metadata": {},
   "outputs": [
    {
     "name": "stderr",
     "output_type": "stream",
     "text": [
      "[Stage 6:=======>                                                   (1 + 7) / 8]\r"
     ]
    },
    {
     "name": "stdout",
     "output_type": "stream",
     "text": [
      "+------+----------+--------+----------+-----------+----------+------------+--------+--------+-------------+---------+\n",
      "|player|event_team|opponent|event_type|event_type2|shot_place|shot_outcome|location|bodypart|assist_method|situation|\n",
      "+------+----------+--------+----------+-----------+----------+------------+--------+--------+-------------+---------+\n",
      "| 60736|         0|       0|         0|     726716|    713550|      712511|  473942|  711824|            0|   711872|\n",
      "+------+----------+--------+----------+-----------+----------+------------+--------+--------+-------------+---------+\n",
      "\n"
     ]
    },
    {
     "name": "stderr",
     "output_type": "stream",
     "text": [
      "\r",
      "                                                                                \r"
     ]
    }
   ],
   "source": [
    "# Checking if null values are present in variable of interest\n",
    "\n",
    "from pyspark.sql.functions import isnan, when, count, col\n",
    "\n",
    "tempDF = eventsDf[['player', 'event_team', 'opponent', 'event_type', 'event_type2', 'shot_place', 'shot_outcome', 'location', 'bodypart', 'assist_method', 'situation']]\n",
    "tempDF.select([count(when(isnan(c) | col(c).isNull(), c)).alias(c) for c in tempDF.columns]).show()"
   ]
  },
  {
   "cell_type": "code",
   "execution_count": 10,
   "id": "093dd581",
   "metadata": {},
   "outputs": [],
   "source": [
    "# Handling Null Values\n",
    "\n",
    "eventsDf = eventsDf.na.fill({'player': 'NA', 'event_team': 'NA', 'opponent': 'NA', \n",
    "                             'event_type': 'NA', 'event_type2': 'NA', 'shot_place': 'NA', \n",
    "                             'shot_outcome': 'NA', 'location': 'NA', 'bodypart': 'NA', \n",
    "                             'assist_method': 'NA', 'situation': 'NA'})"
   ]
  },
  {
   "cell_type": "markdown",
   "id": "4bcc20f5",
   "metadata": {},
   "source": [
    "# Game Data"
   ]
  },
  {
   "cell_type": "code",
   "execution_count": 11,
   "id": "69c4e201",
   "metadata": {},
   "outputs": [],
   "source": [
    "# Read the Game Info dataset\n",
    "\n",
    "gameDf = spark.read.options(header=\"true\",\\\n",
    "                              inferSchema=\"true\",\\\n",
    "                              nullValue=\"NA\",\\\n",
    "                              mode=\"failfast\")\\\n",
    "                             .csv(\"ginf.csv\")"
   ]
  },
  {
   "cell_type": "code",
   "execution_count": 12,
   "id": "8fab40c3",
   "metadata": {},
   "outputs": [
    {
     "name": "stdout",
     "output_type": "stream",
     "text": [
      "Data is having 10112 rows and 18 columns\n"
     ]
    }
   ],
   "source": [
    "# Data specs\n",
    "\n",
    "print('Data is having', gameDf.count(), \"rows and\", len(gameDf.columns), 'columns' )"
   ]
  },
  {
   "cell_type": "code",
   "execution_count": 13,
   "id": "1ca3bb19",
   "metadata": {},
   "outputs": [
    {
     "name": "stdout",
     "output_type": "stream",
     "text": [
      "root\n",
      " |-- id_odsp: string (nullable = true)\n",
      " |-- link_odsp: string (nullable = true)\n",
      " |-- adv_stats: boolean (nullable = true)\n",
      " |-- date: string (nullable = true)\n",
      " |-- league: string (nullable = true)\n",
      " |-- season: integer (nullable = true)\n",
      " |-- country: string (nullable = true)\n",
      " |-- ht: string (nullable = true)\n",
      " |-- at: string (nullable = true)\n",
      " |-- fthg: integer (nullable = true)\n",
      " |-- ftag: integer (nullable = true)\n",
      " |-- odd_h: double (nullable = true)\n",
      " |-- odd_d: double (nullable = true)\n",
      " |-- odd_a: double (nullable = true)\n",
      " |-- odd_over: double (nullable = true)\n",
      " |-- odd_under: double (nullable = true)\n",
      " |-- odd_bts: double (nullable = true)\n",
      " |-- odd_bts_n: double (nullable = true)\n",
      "\n"
     ]
    }
   ],
   "source": [
    "# Data Schema\n",
    "\n",
    "gameDf.printSchema()"
   ]
  },
  {
   "cell_type": "code",
   "execution_count": 14,
   "id": "d7be148d",
   "metadata": {},
   "outputs": [
    {
     "data": {
      "text/plain": [
       "1"
      ]
     },
     "execution_count": 14,
     "metadata": {},
     "output_type": "execute_result"
    }
   ],
   "source": [
    "# Get Partitions\n",
    "\n",
    "gameDf.rdd.getNumPartitions()"
   ]
  },
  {
   "cell_type": "code",
   "execution_count": 15,
   "id": "0d3d4316",
   "metadata": {},
   "outputs": [
    {
     "name": "stdout",
     "output_type": "stream",
     "text": [
      "+---------+--------------------+---------+----------+------+------+-------+-----------------+-----------+----+----+-----+-----+-----+--------+---------+-------+---------+\n",
      "|  id_odsp|           link_odsp|adv_stats|      date|league|season|country|               ht|         at|fthg|ftag|odd_h|odd_d|odd_a|odd_over|odd_under|odd_bts|odd_bts_n|\n",
      "+---------+--------------------+---------+----------+------+------+-------+-----------------+-----------+----+----+-----+-----+-----+--------+---------+-------+---------+\n",
      "|UFot0hit/|/soccer/germany/b...|     true|2011-08-05|    D1|  2012|germany|Borussia Dortmund| Hamburg SV|   3|   1| 1.56| 4.41| 7.42|    null|     null|   null|     null|\n",
      "|Aw5DflLH/|/soccer/germany/b...|     true|2011-08-06|    D1|  2012|germany|      FC Augsburg|SC Freiburg|   2|   2| 2.36|  3.6|  3.4|    null|     null|   null|     null|\n",
      "+---------+--------------------+---------+----------+------+------+-------+-----------------+-----------+----+----+-----+-----+-----+--------+---------+-------+---------+\n",
      "only showing top 2 rows\n",
      "\n"
     ]
    }
   ],
   "source": [
    "# Show sample data\n",
    "\n",
    "gameDf.show(2)"
   ]
  },
  {
   "cell_type": "code",
   "execution_count": 16,
   "id": "c39920a4",
   "metadata": {},
   "outputs": [],
   "source": [
    "# Get only required columns\n",
    "\n",
    "gameDf = gameDf[['id_odsp', 'country', 'adv_stats', 'date', 'league', 'season']]"
   ]
  },
  {
   "cell_type": "code",
   "execution_count": 17,
   "id": "c0070969",
   "metadata": {},
   "outputs": [
    {
     "name": "stdout",
     "output_type": "stream",
     "text": [
      "+---------+-------+---------+----------+------+------+\n",
      "|  id_odsp|country|adv_stats|      date|league|season|\n",
      "+---------+-------+---------+----------+------+------+\n",
      "|UFot0hit/|germany|     true|2011-08-05|    D1|  2012|\n",
      "|Aw5DflLH/|germany|     true|2011-08-06|    D1|  2012|\n",
      "+---------+-------+---------+----------+------+------+\n",
      "only showing top 2 rows\n",
      "\n"
     ]
    }
   ],
   "source": [
    "gameDf.show(2)"
   ]
  },
  {
   "cell_type": "code",
   "execution_count": 18,
   "id": "72534364",
   "metadata": {},
   "outputs": [
    {
     "name": "stdout",
     "output_type": "stream",
     "text": [
      "+-------+-------+---------+----+------+------+\n",
      "|id_odsp|country|adv_stats|date|league|season|\n",
      "+-------+-------+---------+----+------+------+\n",
      "|      0|      0|        0|   0|     0|     0|\n",
      "+-------+-------+---------+----+------+------+\n",
      "\n"
     ]
    }
   ],
   "source": [
    "# Check if dataset needs to handle null values\n",
    "\n",
    "gameDf.select([count(when(col(c).isNull(), c)).alias(c) for c in gameDf.columns]).show()"
   ]
  },
  {
   "cell_type": "markdown",
   "id": "1bc9dbda",
   "metadata": {},
   "source": [
    "# DATA PREPROCESSING"
   ]
  },
  {
   "cell_type": "code",
   "execution_count": 19,
   "id": "c1bface3",
   "metadata": {},
   "outputs": [],
   "source": [
    "# Convert the dictionary.txt to python dicts\n",
    "\n",
    "evtTypeMap = {0:'Announcement', 1:'Attempt', 2:'Corner', 3:'Foul', 4:'Yellow card', 5:'Second yellow card', 6:'Red card', 7:'Substitution', 8:'Free kick won', 9:'Offside', 10:'Hand ball', 11:'Penalty conceded'}\n",
    "evtTyp2Map = {12:'Key Pass', 13:'Failed through ball', 14:'Sending off', 15:'Own goal'}\n",
    "sideMap = {1:'Home', 2:'Away'}\n",
    "shotPlaceMap = {1:'Bit too high', 2:'Blocked', 3:'Bottom left corner', 4:'Bottom right corner', 5:'Centre of the goal', 6:'High and wide', 7:'Hits the bar', 8:'Misses to the left', 9:'Misses to the right', 10:'Too high', 11:'Top centre of the goal', 12:'Top left corner', 13:'Top right corner'}\n",
    "shotOutcomeMap = {1:'On target', 2:'Off target', 3:'Blocked', 4:'Hit the bar'}\n",
    "locationMap = {1:'Attacking half', 2:'Defensive half', 3:'Centre of the box', 4:'Left wing', 5:'Right wing', 6:'Difficult angle and long range', 7:'Difficult angle on the left', 8:'Difficult angle on the right', 9:'Left side of the box', 10:'Left side of the six yard box', 11:'Right side of the box', 12:'Right side of the six yard box', 13:'Very close range', 14:'Penalty spot', 15:'Outside the box', 16:'Long range', 17:'More than 35 yards', 18:'More than 40 yards', 19:'Not recorded'}\n",
    "bodyPartMap = {1:'Right foot', 2:'Left foot', 3:'Head'}\n",
    "assistMethodMap = {0:'None', 1:'Pass', 2:'Cross', 3:'Headed pass', 4:'Through ball'}\n",
    "situationMap = {1:'Open play', 2:'Set piece', 3:'Corner', 4:'Free kick'}\n",
    "countryCodeMap = {'germany':'DEU', 'france':'FRA', 'england':'GBR', 'spain':'ESP', 'italy':'ITA'}"
   ]
  },
  {
   "cell_type": "code",
   "execution_count": 20,
   "id": "c018107c",
   "metadata": {},
   "outputs": [
    {
     "name": "stderr",
     "output_type": "stream",
     "text": [
      "\r",
      "[Stage 19:>                                                         (0 + 8) / 8]\r"
     ]
    },
    {
     "name": "stdout",
     "output_type": "stream",
     "text": [
      "+----------+------+\n",
      "|event_type| count|\n",
      "+----------+------+\n",
      "|         1|229135|\n",
      "|         6|  1152|\n",
      "|         3|232925|\n",
      "|         9| 43476|\n",
      "|         4| 39911|\n",
      "|         8|237932|\n",
      "|         7| 51738|\n",
      "|        10| 10730|\n",
      "|        11|  2706|\n",
      "|         2| 91204|\n",
      "|         5|   100|\n",
      "+----------+------+\n",
      "\n"
     ]
    },
    {
     "name": "stderr",
     "output_type": "stream",
     "text": [
      "\r",
      "                                                                                \r"
     ]
    }
   ],
   "source": [
    "# Before mapping\n",
    "\n",
    "eventsDf.groupBy(\"event_type\").count().show()"
   ]
  },
  {
   "cell_type": "code",
   "execution_count": 21,
   "id": "a1a479dd",
   "metadata": {},
   "outputs": [],
   "source": [
    "# Define user defined function for mapping keys to values in dictionary created above\n",
    "\n",
    "from pyspark.sql.types import StringType\n",
    "from pyspark.sql.functions import udf\n",
    "\n",
    "def translateKeys(mapping):\n",
    "    def translateKeys_(col):\n",
    "        return mapping.get(col)\n",
    "    return udf(translateKeys_, StringType())"
   ]
  },
  {
   "cell_type": "code",
   "execution_count": 22,
   "id": "fce43234",
   "metadata": {},
   "outputs": [
    {
     "data": {
      "text/plain": [
       "DataFrame[id_odsp: string, country: string, country_code: string]"
      ]
     },
     "metadata": {},
     "output_type": "display_data"
    }
   ],
   "source": [
    "# Create country code\n",
    "\n",
    "gameDf = gameDf.withColumn(\"country_code\", translateKeys(countryCodeMap)(\"country\"))\n",
    "display(gameDf['id_odsp','country','country_code'])"
   ]
  },
  {
   "cell_type": "code",
   "execution_count": 23,
   "id": "e90bdc45",
   "metadata": {},
   "outputs": [],
   "source": [
    "# Add new columns with respective category name from dict\n",
    "\n",
    "eventsDf = (\n",
    "             eventsDf.\n",
    "             withColumn(\"event_type_str\", translateKeys(evtTypeMap)(\"event_type\")).\n",
    "             withColumn(\"event_type2_str\", translateKeys(evtTyp2Map)(\"event_type2\")).\n",
    "             withColumn(\"side_str\", translateKeys(sideMap)(\"side\")).\n",
    "             withColumn(\"shot_place_str\", translateKeys(shotPlaceMap)(\"shot_place\")).\n",
    "             withColumn(\"shot_outcome_str\", translateKeys(shotOutcomeMap)(\"shot_outcome\")).\n",
    "             withColumn(\"location_str\", translateKeys(locationMap)(\"location\")).\n",
    "             withColumn(\"bodypart_str\", translateKeys(bodyPartMap)(\"bodypart\")).\n",
    "             withColumn(\"assist_method_str\", translateKeys(assistMethodMap)(\"assist_method\")).\n",
    "             withColumn(\"situation_str\", translateKeys(situationMap)(\"situation\"))\n",
    "           )"
   ]
  },
  {
   "cell_type": "code",
   "execution_count": 24,
   "id": "ec719555",
   "metadata": {},
   "outputs": [
    {
     "name": "stdout",
     "output_type": "stream",
     "text": [
      "root\n",
      " |-- id_odsp: string (nullable = true)\n",
      " |-- id_event: string (nullable = true)\n",
      " |-- sort_order: integer (nullable = true)\n",
      " |-- time: integer (nullable = true)\n",
      " |-- text: string (nullable = true)\n",
      " |-- event_type: integer (nullable = true)\n",
      " |-- event_type2: integer (nullable = true)\n",
      " |-- side: integer (nullable = true)\n",
      " |-- event_team: string (nullable = false)\n",
      " |-- opponent: string (nullable = false)\n",
      " |-- player: string (nullable = false)\n",
      " |-- player2: string (nullable = true)\n",
      " |-- player_in: string (nullable = true)\n",
      " |-- player_out: string (nullable = true)\n",
      " |-- shot_place: integer (nullable = true)\n",
      " |-- shot_outcome: integer (nullable = true)\n",
      " |-- is_goal: integer (nullable = true)\n",
      " |-- location: integer (nullable = true)\n",
      " |-- bodypart: integer (nullable = true)\n",
      " |-- assist_method: integer (nullable = true)\n",
      " |-- situation: integer (nullable = true)\n",
      " |-- fast_break: integer (nullable = true)\n",
      " |-- event_type_str: string (nullable = true)\n",
      " |-- event_type2_str: string (nullable = true)\n",
      " |-- side_str: string (nullable = true)\n",
      " |-- shot_place_str: string (nullable = true)\n",
      " |-- shot_outcome_str: string (nullable = true)\n",
      " |-- location_str: string (nullable = true)\n",
      " |-- bodypart_str: string (nullable = true)\n",
      " |-- assist_method_str: string (nullable = true)\n",
      " |-- situation_str: string (nullable = true)\n",
      "\n"
     ]
    }
   ],
   "source": [
    "# Check if all columns created with string type for respevtive dictionary mapping\n",
    "\n",
    "eventsDf.printSchema()"
   ]
  },
  {
   "cell_type": "code",
   "execution_count": 25,
   "id": "516ed9bd",
   "metadata": {},
   "outputs": [
    {
     "name": "stderr",
     "output_type": "stream",
     "text": [
      "\r",
      "[Stage 22:>                                                         (0 + 8) / 8]\r"
     ]
    },
    {
     "name": "stdout",
     "output_type": "stream",
     "text": [
      "+------------------+------+\n",
      "|    event_type_str| count|\n",
      "+------------------+------+\n",
      "|         Hand ball| 10730|\n",
      "|          Red card|  1152|\n",
      "|              Foul|232925|\n",
      "|       Yellow card| 39911|\n",
      "|           Attempt|229135|\n",
      "|      Substitution| 51738|\n",
      "|           Offside| 43476|\n",
      "|  Penalty conceded|  2706|\n",
      "|     Free kick won|237932|\n",
      "|            Corner| 91204|\n",
      "|Second yellow card|   100|\n",
      "+------------------+------+\n",
      "\n"
     ]
    },
    {
     "name": "stderr",
     "output_type": "stream",
     "text": [
      "\r",
      "                                                                                \r"
     ]
    }
   ],
   "source": [
    "# Values are reflected correctly for keys\n",
    "\n",
    "eventsDf.groupBy(\"event_type_str\").count().show()"
   ]
  },
  {
   "cell_type": "code",
   "execution_count": 26,
   "id": "43cebb4d",
   "metadata": {},
   "outputs": [],
   "source": [
    "# Final dataframe generated by joining data from both events ans games dataset\n",
    "\n",
    "finalDf = (\n",
    "  eventsDf.join(gameDf, eventsDf.id_odsp == gameDf.id_odsp, 'inner').\n",
    "  select(eventsDf.id_odsp, eventsDf.id_event, eventsDf.sort_order, eventsDf.time, eventsDf.event_type, \n",
    "         eventsDf.event_type_str, eventsDf.event_type2, eventsDf.event_type2_str, eventsDf.side, \n",
    "         eventsDf.side_str, eventsDf.event_team, eventsDf.opponent, eventsDf.player, eventsDf.player2, \n",
    "         eventsDf.player_in, eventsDf.player_out, eventsDf.shot_place, eventsDf.shot_place_str, \n",
    "         eventsDf.shot_outcome, eventsDf.shot_outcome_str, eventsDf.is_goal, eventsDf.location, \n",
    "         eventsDf.location_str, eventsDf.bodypart, eventsDf.bodypart_str, eventsDf.assist_method,\n",
    "         eventsDf.assist_method_str, eventsDf.situation, eventsDf.situation_str, gameDf.date, gameDf.league,\n",
    "         gameDf.season, gameDf.country, gameDf.country_code, gameDf.adv_stats)\n",
    ")"
   ]
  },
  {
   "cell_type": "code",
   "execution_count": 27,
   "id": "1ae3ab95",
   "metadata": {},
   "outputs": [
    {
     "name": "stdout",
     "output_type": "stream",
     "text": [
      "root\n",
      " |-- id_odsp: string (nullable = true)\n",
      " |-- id_event: string (nullable = true)\n",
      " |-- sort_order: integer (nullable = true)\n",
      " |-- time: integer (nullable = true)\n",
      " |-- event_type: integer (nullable = true)\n",
      " |-- event_type_str: string (nullable = true)\n",
      " |-- event_type2: integer (nullable = true)\n",
      " |-- event_type2_str: string (nullable = true)\n",
      " |-- side: integer (nullable = true)\n",
      " |-- side_str: string (nullable = true)\n",
      " |-- event_team: string (nullable = false)\n",
      " |-- opponent: string (nullable = false)\n",
      " |-- player: string (nullable = false)\n",
      " |-- player2: string (nullable = true)\n",
      " |-- player_in: string (nullable = true)\n",
      " |-- player_out: string (nullable = true)\n",
      " |-- shot_place: integer (nullable = true)\n",
      " |-- shot_place_str: string (nullable = true)\n",
      " |-- shot_outcome: integer (nullable = true)\n",
      " |-- shot_outcome_str: string (nullable = true)\n",
      " |-- is_goal: integer (nullable = true)\n",
      " |-- location: integer (nullable = true)\n",
      " |-- location_str: string (nullable = true)\n",
      " |-- bodypart: integer (nullable = true)\n",
      " |-- bodypart_str: string (nullable = true)\n",
      " |-- assist_method: integer (nullable = true)\n",
      " |-- assist_method_str: string (nullable = true)\n",
      " |-- situation: integer (nullable = true)\n",
      " |-- situation_str: string (nullable = true)\n",
      " |-- date: string (nullable = true)\n",
      " |-- league: string (nullable = true)\n",
      " |-- season: integer (nullable = true)\n",
      " |-- country: string (nullable = true)\n",
      " |-- country_code: string (nullable = true)\n",
      " |-- adv_stats: boolean (nullable = true)\n",
      "\n"
     ]
    }
   ],
   "source": [
    "finalDf.printSchema()"
   ]
  },
  {
   "cell_type": "code",
   "execution_count": 28,
   "id": "dcac809e",
   "metadata": {},
   "outputs": [
    {
     "name": "stderr",
     "output_type": "stream",
     "text": [
      "                                                                                \r"
     ]
    }
   ],
   "source": [
    "# Create time bin to explore different time related analysis\n",
    "\n",
    "from pyspark.ml.feature import QuantileDiscretizer\n",
    "\n",
    "finalDf = QuantileDiscretizer(numBuckets=10, inputCol=\"time\", outputCol=\"time_bin\").fit(finalDf).transform(finalDf)"
   ]
  },
  {
   "cell_type": "code",
   "execution_count": 29,
   "id": "09fd967c",
   "metadata": {},
   "outputs": [
    {
     "name": "stderr",
     "output_type": "stream",
     "text": [
      "22/04/10 21:43:47 WARN package: Truncated the string representation of a plan since it was too large. This behavior can be adjusted by setting 'spark.sql.debug.maxToStringFields'.\n",
      "[Stage 29:>                                                         (0 + 8) / 8]\r"
     ]
    },
    {
     "name": "stdout",
     "output_type": "stream",
     "text": [
      "+-------+--------+----------+----+----------+--------------+-----------+---------------+----+--------+----------+--------+------+-------+---------+----------+----------+--------------+------------+----------------+-------+--------+------------+--------+------------+-------------+-----------------+---------+-------------+----+------+------+-------+------------+---------+--------+\n",
      "|id_odsp|id_event|sort_order|time|event_type|event_type_str|event_type2|event_type2_str|side|side_str|event_team|opponent|player|player2|player_in|player_out|shot_place|shot_place_str|shot_outcome|shot_outcome_str|is_goal|location|location_str|bodypart|bodypart_str|assist_method|assist_method_str|situation|situation_str|date|league|season|country|country_code|adv_stats|time_bin|\n",
      "+-------+--------+----------+----+----------+--------------+-----------+---------------+----+--------+----------+--------+------+-------+---------+----------+----------+--------------+------------+----------------+-------+--------+------------+--------+------------+-------------+-----------------+---------+-------------+----+------+------+-------+------------+---------+--------+\n",
      "|      0|       0|         0|   0|         0|             0|     726716|         726716|   0|       0|         0|       0|     0| 649696|   889294|    889271|    713550|        713550|      712511|          712511|      0|  473942|      473942|  711824|      711824|            0|                0|   711872|       711872|   0|     0|     0|      0|           0|        0|       0|\n",
      "+-------+--------+----------+----+----------+--------------+-----------+---------------+----+--------+----------+--------+------+-------+---------+----------+----------+--------------+------------+----------------+-------+--------+------------+--------+------------+-------------+-----------------+---------+-------------+----+------+------+-------+------------+---------+--------+\n",
      "\n"
     ]
    },
    {
     "name": "stderr",
     "output_type": "stream",
     "text": [
      "\r",
      "                                                                                \r"
     ]
    }
   ],
   "source": [
    "# Check for null values\n",
    "\n",
    "finalDf.select([count(when(col(c).isNull(), c)).alias(c) for c in finalDf.columns]).show()"
   ]
  },
  {
   "cell_type": "code",
   "execution_count": 30,
   "id": "3384fe0e",
   "metadata": {},
   "outputs": [],
   "source": [
    "# Handling Null Values\n",
    "\n",
    "finalDf = finalDf.na.fill({'player': 'NA', 'event_team': 'NA', 'opponent': 'NA', \n",
    "                             'event_type_str': 'NA', 'event_type2_str': 'NA', 'shot_place_str': 'NA', \n",
    "                             'shot_outcome_str': 'NA', 'location_str': 'NA', 'bodypart_str': 'NA', \n",
    "                             'assist_method_str': 'NA', 'situation_str': 'NA'})"
   ]
  },
  {
   "cell_type": "markdown",
   "id": "247a8e92",
   "metadata": {},
   "source": [
    "# DATA ANALYSIS"
   ]
  },
  {
   "cell_type": "code",
   "execution_count": 31,
   "id": "7b0af5d6",
   "metadata": {},
   "outputs": [],
   "source": [
    "# Register the DataFrame as a SQL temporary view\n",
    "\n",
    "finalDf.createOrReplaceTempView(\"soccer\")"
   ]
  },
  {
   "cell_type": "code",
   "execution_count": 32,
   "id": "03fa68fd",
   "metadata": {},
   "outputs": [
    {
     "name": "stderr",
     "output_type": "stream",
     "text": [
      "\r",
      "[Stage 33:>                                                         (0 + 8) / 8]\r"
     ]
    },
    {
     "name": "stdout",
     "output_type": "stream",
     "text": [
      "+-------------------+---------+\n",
      "|         shot_place|TOT_GOALS|\n",
      "+-------------------+---------+\n",
      "| Bottom left corner|     7212|\n",
      "|Bottom right corner|     6932|\n",
      "| Centre of the goal|     4446|\n",
      "|   Top right corner|     2157|\n",
      "|    Top left corner|     2023|\n",
      "|            Unknown|     1676|\n",
      "+-------------------+---------+\n",
      "\n"
     ]
    },
    {
     "name": "stderr",
     "output_type": "stream",
     "text": [
      "\r",
      "                                                                                \r"
     ]
    }
   ],
   "source": [
    "# Which are the places on field where maximum number of goals are scored?\n",
    "\n",
    "que1 = spark.sql(\"SELECT CASE WHEN shot_place_str == 'NA' THEN 'Unknown' ELSE shot_place_str END shot_place,\\\n",
    "                    COUNT(1) AS TOT_GOALS \\\n",
    "                    FROM soccer WHERE is_goal = 1 \\\n",
    "                    GROUP BY shot_place_str \\\n",
    "                    ORDER BY TOT_GOALS DESC\")\n",
    "que1.show()"
   ]
  },
  {
   "cell_type": "code",
   "execution_count": 33,
   "id": "d9c8a162",
   "metadata": {},
   "outputs": [
    {
     "name": "stderr",
     "output_type": "stream",
     "text": [
      "                                                                                \r"
     ]
    },
    {
     "data": {
      "image/png": "[encoded data removed]",
      "text/plain": [
       "<Figure size 432x288 with 1 Axes>"
      ]
     },
     "metadata": {
      "needs_background": "light"
     },
     "output_type": "display_data"
    }
   ],
   "source": [
    "res1 = que1.toPandas()\n",
    "plot1 = res1.plot.bar(x='shot_place', y='TOT_GOALS')"
   ]
  },
  {
   "cell_type": "code",
   "execution_count": 34,
   "id": "36b17d68",
   "metadata": {},
   "outputs": [
    {
     "name": "stderr",
     "output_type": "stream",
     "text": [
      "\r",
      "[Stage 46:>                                                         (0 + 8) / 8]\r"
     ]
    },
    {
     "name": "stdout",
     "output_type": "stream",
     "text": [
      "+-------+---------+\n",
      "|country|TOT_GOALS|\n",
      "+-------+---------+\n",
      "|  spain|     5583|\n",
      "|  italy|     5491|\n",
      "| france|     5199|\n",
      "|germany|     4621|\n",
      "|england|     3552|\n",
      "+-------+---------+\n",
      "\n"
     ]
    },
    {
     "name": "stderr",
     "output_type": "stream",
     "text": [
      "\r",
      "                                                                                \r"
     ]
    }
   ],
   "source": [
    "# Which countries have scored maximum no. of goals in all tournaments?\n",
    "\n",
    "que2 = spark.sql(\"SELECT country, COUNT(1) AS TOT_GOALS FROM soccer WHERE is_goal = 1 GROUP BY country\\\n",
    "                    ORDER BY 2 DESC\")\n",
    "que2.show()"
   ]
  },
  {
   "cell_type": "code",
   "execution_count": 35,
   "id": "880433ed",
   "metadata": {},
   "outputs": [
    {
     "data": {
      "image/png": "[encoded data removed]",
      "text/plain": [
       "<Figure size 360x360 with 1 Axes>"
      ]
     },
     "metadata": {},
     "output_type": "display_data"
    }
   ],
   "source": [
    "res2 = que2.toPandas()\n",
    "plot2 = res2.plot.pie(y='TOT_GOALS', labels =res2.country, figsize=(5, 5))"
   ]
  },
  {
   "cell_type": "code",
   "execution_count": 36,
   "id": "121668a6",
   "metadata": {},
   "outputs": [
    {
     "name": "stdout",
     "output_type": "stream",
     "text": [
      "+----+------------+\n",
      "|time|num_of_goals|\n",
      "+----+------------+\n",
      "|  90|        1244|\n",
      "|  45|         594|\n",
      "|  56|         339|\n",
      "|  72|         308|\n",
      "|  50|         307|\n",
      "|  86|         306|\n",
      "|  73|         306|\n",
      "|  88|         305|\n",
      "|  61|         304|\n",
      "|  55|         300|\n",
      "|  82|         298|\n",
      "|  64|         296|\n",
      "|  79|         294|\n",
      "|  85|         293|\n",
      "|  51|         293|\n",
      "+----+------------+\n",
      "\n"
     ]
    }
   ],
   "source": [
    "# At what minutes most number of goals are scored?\n",
    "\n",
    "que3 = spark.sql(\"SELECT time, count(1) as num_of_goals FROM soccer WHERE is_goal = 1 GROUP BY time ORDER BY 2 DESC LIMIT 15\")\n",
    "que3.show()"
   ]
  },
  {
   "cell_type": "code",
   "execution_count": 37,
   "id": "fecfdc5d",
   "metadata": {},
   "outputs": [
    {
     "data": {
      "image/png": "[encoded data removed]",
      "text/plain": [
       "<Figure size 1440x360 with 1 Axes>"
      ]
     },
     "metadata": {
      "needs_background": "light"
     },
     "output_type": "display_data"
    }
   ],
   "source": [
    "res3 = que3.toPandas()\n",
    "plot3 = res3.plot.bar(x='time', y='num_of_goals', figsize=(20,5))"
   ]
  },
  {
   "cell_type": "code",
   "execution_count": 38,
   "id": "f788ef87",
   "metadata": {},
   "outputs": [
    {
     "name": "stderr",
     "output_type": "stream",
     "text": [
      "\r",
      "[Stage 67:>                                                         (0 + 8) / 8]\r"
     ]
    },
    {
     "name": "stdout",
     "output_type": "stream",
     "text": [
      "+----+-------------------+\n",
      "|time|num_of_yellow_cards|\n",
      "+----+-------------------+\n",
      "|  90|               2784|\n",
      "|  45|               1106|\n",
      "|  88|                686|\n",
      "|  89|                650|\n",
      "|  87|                624|\n",
      "|  86|                618|\n",
      "|  84|                593|\n",
      "|  85|                592|\n",
      "|  80|                588|\n",
      "|  83|                585|\n",
      "+----+-------------------+\n",
      "\n"
     ]
    },
    {
     "name": "stderr",
     "output_type": "stream",
     "text": [
      "\r",
      "                                                                                \r"
     ]
    }
   ],
   "source": [
    "# At what minutes maximum number of yellow card were given?\n",
    "\n",
    "que4 = spark.sql(\"SELECT time, count(1) as num_of_yellow_cards FROM soccer \\\n",
    "                WHERE event_type_str == 'Yellow card' OR event_type_str == 'Second yellow card' \\\n",
    "                GROUP BY time ORDER BY 2 DESC LIMIT 10\")\n",
    "que4.show()"
   ]
  },
  {
   "cell_type": "code",
   "execution_count": 39,
   "id": "a3859492",
   "metadata": {},
   "outputs": [
    {
     "name": "stderr",
     "output_type": "stream",
     "text": [
      "                                                                                \r"
     ]
    },
    {
     "data": {
      "image/png": "[encoded data removed]",
      "text/plain": [
       "<Figure size 1440x360 with 1 Axes>"
      ]
     },
     "metadata": {
      "needs_background": "light"
     },
     "output_type": "display_data"
    }
   ],
   "source": [
    "res4 = que4.toPandas()\n",
    "plot4 = res4.plot.bar(x='time', y='num_of_yellow_cards', figsize=(20,5))"
   ]
  },
  {
   "cell_type": "code",
   "execution_count": 40,
   "id": "1460071c",
   "metadata": {},
   "outputs": [
    {
     "name": "stderr",
     "output_type": "stream",
     "text": [
      "\r",
      "[Stage 75:>                                                         (0 + 8) / 8]\r"
     ]
    },
    {
     "name": "stdout",
     "output_type": "stream",
     "text": [
      "+--------+---------------+\n",
      "|time_bin|num_of_red_card|\n",
      "+--------+---------------+\n",
      "|     0.0|             44|\n",
      "|     1.0|             60|\n",
      "|     2.0|             85|\n",
      "|     3.0|             79|\n",
      "|     4.0|             92|\n",
      "|     5.0|             95|\n",
      "|     6.0|            112|\n",
      "|     7.0|            119|\n",
      "|     8.0|            191|\n",
      "|     9.0|            275|\n",
      "+--------+---------------+\n",
      "\n"
     ]
    },
    {
     "name": "stderr",
     "output_type": "stream",
     "text": [
      "\r",
      "                                                                                \r"
     ]
    }
   ],
   "source": [
    "# Analyze time ranges when maximum red cards are given\n",
    "\n",
    "que5_ = spark.sql(\"SELECT time_bin, count(1) as num_of_red_card FROM soccer \\\n",
    "                WHERE event_type_str == 'Red card' \\\n",
    "                GROUP BY time_bin ORDER BY 1\")\n",
    "que5_.show()"
   ]
  },
  {
   "cell_type": "code",
   "execution_count": 41,
   "id": "e53e9752",
   "metadata": {},
   "outputs": [
    {
     "name": "stderr",
     "output_type": "stream",
     "text": [
      "                                                                                \r"
     ]
    },
    {
     "data": {
      "image/png": "[encoded data removed]",
      "text/plain": [
       "<Figure size 1440x360 with 1 Axes>"
      ]
     },
     "metadata": {
      "needs_background": "light"
     },
     "output_type": "display_data"
    }
   ],
   "source": [
    "res5_ = que5_.toPandas()\n",
    "plot5_ = res5_.plot.bar(x='time_bin', y='num_of_red_card', figsize=(20,5))"
   ]
  },
  {
   "cell_type": "code",
   "execution_count": 42,
   "id": "943b5fc9",
   "metadata": {},
   "outputs": [
    {
     "name": "stderr",
     "output_type": "stream",
     "text": [
      "\r",
      "[Stage 88:>                                                         (0 + 8) / 8]\r"
     ]
    },
    {
     "name": "stdout",
     "output_type": "stream",
     "text": [
      "+--------+-------------------+\n",
      "|TIME_BIN|total_substitutions|\n",
      "+--------+-------------------+\n",
      "|     0.0|                283|\n",
      "|     1.0|                441|\n",
      "|     2.0|                638|\n",
      "|     3.0|                730|\n",
      "|     4.0|               4233|\n",
      "|     5.0|               4720|\n",
      "|     6.0|               9147|\n",
      "|     7.0|              12858|\n",
      "|     8.0|              12745|\n",
      "|     9.0|               5943|\n",
      "+--------+-------------------+\n",
      "\n"
     ]
    },
    {
     "name": "stderr",
     "output_type": "stream",
     "text": [
      "\r",
      "[Stage 88:====================================>                     (5 + 3) / 8]\r",
      "\r",
      "                                                                                \r"
     ]
    }
   ],
   "source": [
    "# Analyze time ranges when maximum substitutions are done\n",
    "\n",
    "que6_ = spark.sql(\"SELECT TIME_BIN, count(1) as total_substitutions FROM soccer \\\n",
    "                WHERE event_type_str == 'Substitution' \\\n",
    "                GROUP BY TIME_BIN ORDER BY 1\")                 \n",
    "que6_.show()"
   ]
  },
  {
   "cell_type": "code",
   "execution_count": 43,
   "id": "0ebbd286",
   "metadata": {},
   "outputs": [
    {
     "name": "stderr",
     "output_type": "stream",
     "text": [
      "                                                                                \r"
     ]
    },
    {
     "data": {
      "image/png": "[encoded data removed]",
      "text/plain": [
       "<Figure size 1440x360 with 1 Axes>"
      ]
     },
     "metadata": {
      "needs_background": "light"
     },
     "output_type": "display_data"
    }
   ],
   "source": [
    "res6_ = que6_.toPandas()\n",
    "plot6_ = res6_.plot.bar(x='TIME_BIN', y='total_substitutions', figsize=(20,5))"
   ]
  },
  {
   "cell_type": "code",
   "execution_count": 44,
   "id": "f928f0c3",
   "metadata": {},
   "outputs": [
    {
     "name": "stderr",
     "output_type": "stream",
     "text": [
      "\r",
      "[Stage 101:>                                                        (0 + 8) / 8]\r"
     ]
    },
    {
     "name": "stdout",
     "output_type": "stream",
     "text": [
      "+-------------------+--------------------+---------+\n",
      "|         shot_place|            location|TOT_GOALS|\n",
      "+-------------------+--------------------+---------+\n",
      "| Bottom left corner|    Very close range|      219|\n",
      "| Bottom left corner|   Centre of the box|      832|\n",
      "| Bottom left corner|     Outside the box|      166|\n",
      "|Bottom right corner|    Very close range|      174|\n",
      "|Bottom right corner|   Centre of the box|      813|\n",
      "|Bottom right corner|     Outside the box|      163|\n",
      "| Centre of the goal|        Penalty spot|       65|\n",
      "| Centre of the goal|   Centre of the box|      429|\n",
      "| Centre of the goal|    Very close range|      275|\n",
      "|    Top left corner|     Outside the box|       63|\n",
      "|    Top left corner|    Very close range|       56|\n",
      "|    Top left corner|   Centre of the box|      172|\n",
      "|   Top right corner|   Centre of the box|      178|\n",
      "|   Top right corner|     Outside the box|       74|\n",
      "|   Top right corner|Left side of the box|       48|\n",
      "+-------------------+--------------------+---------+\n",
      "\n"
     ]
    },
    {
     "name": "stderr",
     "output_type": "stream",
     "text": [
      "\r",
      "                                                                                \r"
     ]
    }
   ],
   "source": [
    "# Que 7. Goal wise distribution of Location and shot place for 'Spain'\n",
    "\n",
    "que7 = spark.sql(\"SELECT shot_place, location, TOT_GOALS FROM ( \\\n",
    "                    SELECT shot_place, location, TOT_GOALS, \\\n",
    "                    RANK() OVER (PARTITION BY shot_place ORDER BY TOT_GOALS DESC) goals_rank \\\n",
    "                    FROM ( \\\n",
    "                          SELECT \\\n",
    "                          CASE WHEN shot_place_str = 'NA' THEN 'Unknown' ELSE shot_place_str END AS shot_place, \\\n",
    "                          CASE WHEN location_str = 'NA' THEN 'Unknown' ELSE location_str END AS location, \\\n",
    "                          COUNT(1) AS TOT_GOALS \\\n",
    "                          FROM soccer \\\n",
    "                          WHERE is_goal = 1 AND COUNTRY_CODE = 'ESP' \\\n",
    "                          GROUP BY shot_place_str, location_str \\\n",
    "                    ) tmp_in \\\n",
    "                    WHERE TOT_GOALS IS NOT NULL AND TOT_GOALS <> 0 \\\n",
    "                 ) tmp_out \\\n",
    "                WHERE goals_rank <= 3 AND location != 'Unknown' AND shot_place != 'Unknown' ORDER BY shot_place\")\n",
    "que7.show()"
   ]
  },
  {
   "cell_type": "code",
   "execution_count": 45,
   "id": "1adda415",
   "metadata": {},
   "outputs": [
    {
     "name": "stdout",
     "output_type": "stream",
     "text": [
      "+-------+--------+---------+\n",
      "|country|TIME_BIN|TOT_GOALS|\n",
      "+-------+--------+---------+\n",
      "|england|     0.0|      289|\n",
      "|england|     1.0|      364|\n",
      "|england|     2.0|      326|\n",
      "|england|     3.0|      358|\n",
      "|england|     4.0|      422|\n",
      "|england|     5.0|      353|\n",
      "|england|     6.0|      338|\n",
      "|england|     7.0|      356|\n",
      "|england|     8.0|      354|\n",
      "|england|     9.0|      392|\n",
      "| france|     0.0|      455|\n",
      "| france|     1.0|      490|\n",
      "| france|     2.0|      455|\n",
      "| france|     3.0|      535|\n",
      "| france|     4.0|      567|\n",
      "| france|     5.0|      504|\n",
      "| france|     6.0|      465|\n",
      "| france|     7.0|      562|\n",
      "| france|     8.0|      535|\n",
      "| france|     9.0|      631|\n",
      "+-------+--------+---------+\n",
      "only showing top 20 rows\n",
      "\n"
     ]
    }
   ],
   "source": [
    "# Goal distribution in different time bins for all countries\n",
    "\n",
    "que8 = spark.sql(\"SELECT country, TIME_BIN, COUNT(1) TOT_GOALS \\\n",
    "                  FROM soccer \\\n",
    "                  WHERE is_goal = 1 \\\n",
    "                  GROUP BY country, TIME_BIN \\\n",
    "                  ORDER BY country, TIME_BIN\")\n",
    "que8.show()"
   ]
  },
  {
   "cell_type": "code",
   "execution_count": null,
   "id": "4580d140",
   "metadata": {},
   "outputs": [],
   "source": []
  }
 ],
 "metadata": {
  "kernelspec": {
   "display_name": "Python 3 (ipykernel)",
   "language": "python",
   "name": "python3"
  },
  "language_info": {
   "codemirror_mode": {
    "name": "ipython",
    "version": 3
   },
   "file_extension": ".py",
   "mimetype": "text/x-python",
   "name": "python",
   "nbconvert_exporter": "python",
   "pygments_lexer": "ipython3",
   "version": "3.9.10"
  }
 },
 "nbformat": 4,
 "nbformat_minor": 5
}
